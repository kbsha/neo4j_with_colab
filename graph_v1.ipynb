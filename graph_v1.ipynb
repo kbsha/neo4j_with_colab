{
  "nbformat": 4,
  "nbformat_minor": 0,
  "metadata": {
    "colab": {
      "provenance": [],
      "authorship_tag": "ABX9TyMY8TQUtZFkU6cPwKUt5kz6",
      "include_colab_link": true
    },
    "kernelspec": {
      "name": "python3",
      "display_name": "Python 3"
    },
    "language_info": {
      "name": "python"
    }
  },
  "cells": [
    {
      "cell_type": "markdown",
      "metadata": {
        "id": "view-in-github",
        "colab_type": "text"
      },
      "source": [
        "<a href=\"https://colab.research.google.com/github/kbsha/neo4j_with_colab/blob/main/graph_v1.ipynb\" target=\"_parent\"><img src=\"https://colab.research.google.com/assets/colab-badge.svg\" alt=\"Open In Colab\"/></a>"
      ]
    },
    {
      "cell_type": "code",
      "execution_count": 40,
      "metadata": {
        "colab": {
          "base_uri": "https://localhost:8080/"
        },
        "id": "2yOfvLZzfLks",
        "outputId": "40e6c90e-8023-40d3-cc9e-921e46234245"
      },
      "outputs": [
        {
          "output_type": "stream",
          "name": "stdout",
          "text": [
            "rm: cannot remove '/tem/neo4j_with_colab': Is a directory\n",
            "fatal: destination path '/tem/neo4j_with_colab' already exists and is not an empty directory.\n"
          ]
        }
      ],
      "source": [
        "!rm /tem/neo4j_with_colab\n",
        "!git clone https://github.com/kbsha/neo4j_with_colab /tem/neo4j_with_colab\n",
        "#!git add https://github.com/kbsha/neo4j_with_colab/graph-v1.ipynb"
      ]
    },
    {
      "cell_type": "code",
      "source": [
        "uri = \"neo4j+s://ac7b5a02.databases.neo4j.io\"\n",
        "user = \"neo4j\"\n",
        "password = \"qDxk-VSgSih4GN_t3dC_S_34R5aidujDa49raagIdqI\""
      ],
      "metadata": {
        "id": "taCr5SQKiIII"
      },
      "execution_count": 41,
      "outputs": []
    },
    {
      "cell_type": "code",
      "source": [
        "%pip install neo4j"
      ],
      "metadata": {
        "colab": {
          "base_uri": "https://localhost:8080/"
        },
        "id": "eenAuPgBie_n",
        "outputId": "76f814c5-185f-4496-c1ed-b55e83cc671a"
      },
      "execution_count": 42,
      "outputs": [
        {
          "output_type": "stream",
          "name": "stdout",
          "text": [
            "Requirement already satisfied: neo4j in /usr/local/lib/python3.10/dist-packages (5.17.0)\n",
            "Requirement already satisfied: pytz in /usr/local/lib/python3.10/dist-packages (from neo4j) (2023.4)\n"
          ]
        }
      ]
    },
    {
      "cell_type": "code",
      "source": [
        "from neo4j import GraphDatabase\n",
        "import logging\n",
        "from neo4j.exceptions import ServiceUnavailable"
      ],
      "metadata": {
        "id": "E3G78ThDil1O"
      },
      "execution_count": 43,
      "outputs": []
    },
    {
      "cell_type": "code",
      "source": [
        "# Import necessary libraries\n",
        "from neo4j import GraphDatabase\n",
        "\n",
        "# Define the App class\n",
        "class App:\n",
        "    def __init__(self, uri, user, password):\n",
        "        self.driver = GraphDatabase.driver(uri, auth=(user, password))\n",
        "\n",
        "    def close(self):\n",
        "        self.driver.close()\n",
        "\n",
        "    def create_node_and_relationship(self, actor_name, usecase_id, rel_name, target_actor_name):\n",
        "        with self.driver.session() as session:\n",
        "            # Create a node with use case label\n",
        "            session.write_transaction(self._create_and_return_node_label, actor_name, usecase_id)\n",
        "\n",
        "            # Create another node with use case label\n",
        "            session.write_transaction(self._create_and_return_node_label, target_actor_name, usecase_id)\n",
        "\n",
        "            # Create a relationship between nodes under the use case\n",
        "            session.write_transaction(self._create_and_return_rel_label, actor_name, rel_name, target_actor_name, usecase_id)\n",
        "\n",
        "    def cleanup_db(self):\n",
        "        with self.driver.session() as session:\n",
        "            result = session.read_transaction(self._count_nodes_in_db)\n",
        "            for row in result:\n",
        "                print(\"Found {row} actors, deleting! \".format(row=row['count']))\n",
        "            session.write_transaction(self._cleanup_db)\n",
        "\n",
        "    @staticmethod\n",
        "    def _create_and_return_node_label(tx, actor_name, usecase_id):\n",
        "        query = (\n",
        "            \"CREATE (n1 :\" + usecase_id + \" { name: $actor_name }) \"\n",
        "            \"RETURN n1\"\n",
        "        )\n",
        "        result = tx.run(query, actor_name=actor_name)\n",
        "        return result.single()\n",
        "\n",
        "    @staticmethod\n",
        "    def _create_and_return_rel_label(tx, actor1_name, rel_name, actor2_name, usecase_id):\n",
        "        query = (\n",
        "            \"MATCH (n1 :\" + usecase_id + \" { name: $actor1_name }), \"\n",
        "            \"(n2 :\" + usecase_id + \" { name: $actor2_name }) \"\n",
        "            \"CREATE (n1)-[r1:Relation { name: $rel_name }]->(n2) \"\n",
        "            \"RETURN n1, r1, n2\"\n",
        "        )\n",
        "        result = tx.run(query, actor1_name=actor1_name, rel_name=rel_name, actor2_name=actor2_name)\n",
        "        return result.single()\n",
        "\n",
        "    @staticmethod\n",
        "    def _count_nodes_in_db(tx):\n",
        "        query = (\n",
        "            \"MATCH (n) \"\n",
        "            \"RETURN count(n) as count\"\n",
        "        )\n",
        "        result = tx.run(query)\n",
        "        try:\n",
        "            return [{\"count\": row[\"count\"]}\n",
        "                    for row in result]\n",
        "        except ServiceUnavailable as exception:\n",
        "            logging.error(\"{query} raised an error: \\n {exception}\".format(\n",
        "                query=query, exception=exception))\n",
        "            raise\n",
        "\n",
        "    @staticmethod\n",
        "    def _cleanup_db(tx):\n",
        "        query = (\n",
        "            \"MATCH (n) \"\n",
        "            \"DETACH DELETE n\"\n",
        "        )\n",
        "        tx.run(query)\n",
        "# Example usage\n",
        "uri = \"neo4j+s://ac7b5a02.databases.neo4j.io\"\n",
        "user = \"neo4j\"\n",
        "password = \"qDxk-VSgSih4GN_t3dC_S_34R5aidujDa49raagIdqI\"\n",
        "# Create an instance of the App class\n",
        "app_instance = App(uri, user, password)\n",
        "\n",
        "# Create a node and a relationship\n",
        "app_instance.create_node_and_relationship(\"Actor1\", \"UseCase1\", \"Knows\", \"Actor2\")\n",
        "\n",
        "# Close the driver when done\n",
        "app_instance.close()"
      ],
      "metadata": {
        "colab": {
          "base_uri": "https://localhost:8080/"
        },
        "id": "CeSV6H0Ri0iq",
        "outputId": "94bd207f-3935-4154-dda8-08f7a31b5991"
      },
      "execution_count": 44,
      "outputs": [
        {
          "output_type": "stream",
          "name": "stderr",
          "text": [
            "<ipython-input-44-420cd229a064>:15: DeprecationWarning: write_transaction has been renamed to execute_write\n",
            "  session.write_transaction(self._create_and_return_node_label, actor_name, usecase_id)\n",
            "<ipython-input-44-420cd229a064>:18: DeprecationWarning: write_transaction has been renamed to execute_write\n",
            "  session.write_transaction(self._create_and_return_node_label, target_actor_name, usecase_id)\n",
            "<ipython-input-44-420cd229a064>:21: DeprecationWarning: write_transaction has been renamed to execute_write\n",
            "  session.write_transaction(self._create_and_return_rel_label, actor_name, rel_name, target_actor_name, usecase_id)\n",
            "/usr/local/lib/python3.10/dist-packages/neo4j/_sync/work/result.py:500: UserWarning: Expected a result with a single record, but found multiple.\n",
            "  warn(\"Expected a result with a single record, \"\n"
          ]
        }
      ]
    },
    {
      "cell_type": "code",
      "source": [
        "app = App(uri, user, password)"
      ],
      "metadata": {
        "id": "vW765pUskZXz"
      },
      "execution_count": 45,
      "outputs": []
    }
  ]
}